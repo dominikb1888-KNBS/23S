{
 "cells": [
  {
   "cell_type": "code",
   "execution_count": 18,
   "id": "38792036",
   "metadata": {},
   "outputs": [],
   "source": [
    "#!/usr/bin/python3\n",
    "import subprocess as sh\n",
    "\n",
    "\n",
    "folder = \"KNBS\"\n",
    "branch = \"23S\"\n",
    "message = \"test commit\"\n",
    "web_repo = f\"dominikb1888-{folder}/{branch}\"\n",
    "local_repo = f\"dominikb1888/{folder}\"\n",
    "log=''\n",
    "#log = '--log-failed'"
   ]
  },
  {
   "cell_type": "code",
   "execution_count": 26,
   "id": "0d899786",
   "metadata": {},
   "outputs": [
    {
     "name": "stdout",
     "output_type": "stream",
     "text": [
      "On branch 23S\n",
      "Your branch is up to date with 'origin/23S'.\n",
      "\n",
      "nothing to commit, working tree clean\n"
     ]
    },
    {
     "name": "stderr",
     "output_type": "stream",
     "text": [
      "Everything up-to-date\n",
      "unexpected token \"'\"\n",
      "unknown flag: --repo dominikb1888-KNBS/23S\n",
      "\n",
      "Usage:  gh run <command> [flags]\n",
      "\n",
      "Available commands:\n",
      "  cancel\n",
      "  download\n",
      "  list\n",
      "  rerun\n",
      "  view\n",
      "  watch\n",
      "\n",
      "unknown command \"set-default dominikb1888/KNBS\" for \"gh repo\"\n",
      "\n",
      "Usage:  gh repo <command> [flags]\n",
      "\n",
      "Available commands:\n",
      "  archive\n",
      "  clone\n",
      "  create\n",
      "  delete\n",
      "  deploy-key\n",
      "  edit\n",
      "  fork\n",
      "  list\n",
      "  rename\n",
      "  set-default\n",
      "  sync\n",
      "  view\n"
     ]
    },
    {
     "data": {
      "text/html": [
       "<pre style=\"white-space:pre;overflow-x:auto;line-height:normal;font-family:Menlo,'DejaVu Sans Mono',consolas,'Courier New',monospace\"><span style=\"color: #800080; text-decoration-color: #800080; font-weight: bold\">CompletedProcess</span><span style=\"font-weight: bold\">(</span><span style=\"color: #808000; text-decoration-color: #808000\">args</span>=<span style=\"font-weight: bold\">[</span><span style=\"color: #008000; text-decoration-color: #008000\">'gh'</span>, <span style=\"color: #008000; text-decoration-color: #008000\">'repo'</span>, <span style=\"color: #008000; text-decoration-color: #008000\">'set-default dominikb1888/KNBS'</span><span style=\"font-weight: bold\">]</span>, <span style=\"color: #808000; text-decoration-color: #808000\">returncode</span>=<span style=\"color: #008080; text-decoration-color: #008080; font-weight: bold\">1</span><span style=\"font-weight: bold\">)</span>\n",
       "</pre>\n"
      ],
      "text/plain": [
       "\u001b[1;35mCompletedProcess\u001b[0m\u001b[1m(\u001b[0m\u001b[33margs\u001b[0m=\u001b[1m[\u001b[0m\u001b[32m'gh'\u001b[0m, \u001b[32m'repo'\u001b[0m, \u001b[32m'set-default dominikb1888/KNBS'\u001b[0m\u001b[1m]\u001b[0m, \u001b[33mreturncode\u001b[0m=\u001b[1;36m1\u001b[0m\u001b[1m)\u001b[0m\n"
      ]
     },
     "metadata": {},
     "output_type": "display_data"
    }
   ],
   "source": [
    "sh.run(['git','commit',f\"-am '{message}'\"])\n",
    "sh.run(['git', 'push'])\n",
    "\n",
    "sh.run(['gh', 'repo', 'set-default', f'{web_repo}'])\n",
    "                   \n",
    "run_id = sh.run([\"gh\",\"run\",\"list\", \"--jq\", \"'.[0].databaseId'\",\"--json\",\"databaseId\"], stdout=sh.PIPE).stdout\n",
    "\n",
    "sh.run(['gh','run',f'view {run_id}',f'{log}', f'--repo {repo}'])\n",
    "\n",
    "sh.run(['gh', 'repo', f'set-default {local_repo}'])"
   ]
  },
  {
   "cell_type": "code",
   "execution_count": null,
   "id": "1a763828",
   "metadata": {},
   "outputs": [],
   "source": []
  },
  {
   "cell_type": "code",
   "execution_count": null,
   "id": "50c55271",
   "metadata": {},
   "outputs": [],
   "source": []
  }
 ],
 "metadata": {
  "kernelspec": {
   "display_name": "Python 3 (ipykernel)",
   "language": "python",
   "name": "python3"
  },
  "language_info": {
   "codemirror_mode": {
    "name": "ipython",
    "version": 3
   },
   "file_extension": ".py",
   "mimetype": "text/x-python",
   "name": "python",
   "nbconvert_exporter": "python",
   "pygments_lexer": "ipython3",
   "version": "3.10.9"
  }
 },
 "nbformat": 4,
 "nbformat_minor": 5
}
