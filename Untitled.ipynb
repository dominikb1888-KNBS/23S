{
 "cells": [
  {
   "cell_type": "code",
   "execution_count": 18,
   "id": "f77b6e09",
   "metadata": {},
   "outputs": [],
   "source": [
    "#!/usr/bin/python3\n",
    "import subprocess as sh\n",
    "\n",
    "\n",
    "folder = \"KNBS\"\n",
    "branch = \"23S\"\n",
    "message = \"test commit\"\n",
    "web_repo = f\"dominikb1888-{folder}/{branch}\"\n",
    "local_repo = f\"dominikb1888/{folder}\"\n",
    "log=''\n",
    "#log = '--log-failed'"
   ]
  },
  {
   "cell_type": "code",
   "execution_count": null,
   "id": "8af07c8b",
   "metadata": {},
   "outputs": [
    {
     "name": "stdout",
     "output_type": "stream",
     "text": [
      "On branch 23S\n",
      "Your branch is up to date with 'origin/23S'.\n",
      "\n",
      "nothing to commit, working tree clean\n"
     ]
    },
    {
     "name": "stderr",
     "output_type": "stream",
     "text": [
      "Everything up-to-date\n"
     ]
    }
   ],
   "source": [
    "sh.run(['git','commit',f\"-am '{message}'\"])\n",
    "sh.run(['git', 'push'])\n",
    "sh.run(['git', 'push', 'web'])\n",
    "                   \n",
    "run_id = sh.run([\"gh\",\"run\",f\"--repo {repo}\",\"--jq '.[0].databaseId'\",\"--json databaseId\"])\n",
    "print(run_id)\n",
    "sh.run(['gh','run','watch',f'{run_id}', f'{log}', '--repo', f'{repo}'],stdout=sh.PIPE).stdout\n"
   ]
  },
  {
   "cell_type": "code",
   "execution_count": null,
   "id": "7b6bba47",
   "metadata": {},
   "outputs": [],
   "source": []
  },
  {
   "cell_type": "code",
   "execution_count": null,
   "id": "7499f31d",
   "metadata": {},
   "outputs": [],
   "source": []
  }
 ],
 "metadata": {
  "kernelspec": {
   "display_name": "Python 3 (ipykernel)",
   "language": "python",
   "name": "python3"
  },
  "language_info": {
   "codemirror_mode": {
    "name": "ipython",
    "version": 3
   },
   "file_extension": ".py",
   "mimetype": "text/x-python",
   "name": "python",
   "nbconvert_exporter": "python",
   "pygments_lexer": "ipython3",
   "version": "3.10.9"
  }
 },
 "nbformat": 4,
 "nbformat_minor": 5
}
