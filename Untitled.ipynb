{
 "cells": [
  {
   "cell_type": "code",
   "execution_count": 18,
   "id": "026c46ad",
   "metadata": {},
   "outputs": [],
   "source": [
    "#!/usr/bin/python3\n",
    "import subprocess as sh\n",
    "\n",
    "\n",
    "folder = \"KNBS\"\n",
    "branch = \"23S\"\n",
    "message = \"test commit\"\n",
    "web_repo = f\"dominikb1888-{folder}/{branch}\"\n",
    "local_repo = f\"dominikb1888/{folder}\"\n",
    "log=''\n",
    "#log = '--log-failed'"
   ]
  },
  {
   "cell_type": "code",
   "execution_count": 28,
   "id": "5a7494a4",
   "metadata": {},
   "outputs": [
    {
     "data": {
      "text/html": [
       "<pre style=\"white-space:pre;overflow-x:auto;line-height:normal;font-family:Menlo,'DejaVu Sans Mono',consolas,'Courier New',monospace\"><span style=\"color: #ff0000; text-decoration-color: #ff0000\">╭──────────────────────────────────────────────────────────────────────────────────────────────────╮</span>\n",
       "<span style=\"color: #ff0000; text-decoration-color: #ff0000\">│</span> <span style=\"color: #bfbf7f; text-decoration-color: #bfbf7f\"> /var/folders/7y/km239y1n2w718p09d_ljlxhm0000gn/T/ipykernel_73846/</span><span style=\"color: #808000; text-decoration-color: #808000; font-weight: bold\">2099247472.py</span><span style=\"font-weight: bold\">:</span><span style=\"color: #0000ff; text-decoration-color: #0000ff; font-weight: bold\">6</span>                <span style=\"color: #ff0000; text-decoration-color: #ff0000\">│</span>\n",
       "<span style=\"color: #ff0000; text-decoration-color: #ff0000\">│</span> <span style=\"color: #800080; text-decoration-color: #800080; font-weight: bold\">sh.run</span><span style=\"font-weight: bold\">([</span><span style=\"color: #808000; text-decoration-color: #808000\">'gh'</span>,<span style=\"color: #808000; text-decoration-color: #808000\">'run'</span>,<span style=\"color: #808000; text-decoration-color: #808000\">'view'</span>,f'<span style=\"font-weight: bold\">{</span>run_id<span style=\"font-weight: bold\">}</span><span style=\"color: #808000; text-decoration-color: #808000\">', f'</span><span style=\"font-weight: bold\">{</span>log<span style=\"font-weight: bold\">}</span><span style=\"color: #808000; text-decoration-color: #808000\">', '</span>--repo, f'<span style=\"font-weight: bold\">{</span>repo<span style=\"font-weight: bold\">}</span>'<span style=\"font-weight: bold\">])</span>                            <span style=\"color: #ff0000; text-decoration-color: #ff0000\">│</span>\n",
       "<span style=\"color: #ff0000; text-decoration-color: #ff0000\">│</span>                                                                   <span style=\"color: #ff0000; text-decoration-color: #ff0000; font-weight: bold\">▲</span>                              <span style=\"color: #ff0000; text-decoration-color: #ff0000\">│</span>\n",
       "<span style=\"color: #ff0000; text-decoration-color: #ff0000\">╰──────────────────────────────────────────────────────────────────────────────────────────────────╯</span>\n",
       "<span style=\"color: #ff0000; text-decoration-color: #ff0000; font-weight: bold\">SyntaxError: </span>unterminated string literal <span style=\"font-weight: bold\">(</span>detected at line <span style=\"color: #008080; text-decoration-color: #008080; font-weight: bold\">6</span><span style=\"font-weight: bold\">)</span>\n",
       "</pre>\n"
      ],
      "text/plain": [
       "\u001b[91m╭──────────────────────────────────────────────────────────────────────────────────────────────────╮\u001b[0m\n",
       "\u001b[91m│\u001b[0m \u001b[2;33m /var/folders/7y/km239y1n2w718p09d_ljlxhm0000gn/T/ipykernel_73846/\u001b[0m\u001b[1;33m2099247472.py\u001b[0m\u001b[1m:\u001b[0m\u001b[1;94m6\u001b[0m                \u001b[91m│\u001b[0m\n",
       "\u001b[91m│\u001b[0m \u001b[1;35msh.run\u001b[0m\u001b[1m(\u001b[0m\u001b[1m[\u001b[0m\u001b[33m'gh'\u001b[0m,\u001b[33m'run'\u001b[0m,\u001b[33m'view'\u001b[0m,f'\u001b[1m{\u001b[0mrun_id\u001b[1m}\u001b[0m\u001b[33m', f'\u001b[0m\u001b[1m{\u001b[0mlog\u001b[1m}\u001b[0m\u001b[33m', '\u001b[0m--repo, f'\u001b[1m{\u001b[0mrepo\u001b[1m}\u001b[0m'\u001b[1m]\u001b[0m\u001b[1m)\u001b[0m                            \u001b[91m│\u001b[0m\n",
       "\u001b[91m│\u001b[0m                                                                   \u001b[1;91m▲\u001b[0m                              \u001b[91m│\u001b[0m\n",
       "\u001b[91m╰──────────────────────────────────────────────────────────────────────────────────────────────────╯\u001b[0m\n",
       "\u001b[1;91mSyntaxError: \u001b[0munterminated string literal \u001b[1m(\u001b[0mdetected at line \u001b[1;36m6\u001b[0m\u001b[1m)\u001b[0m\n"
      ]
     },
     "metadata": {},
     "output_type": "display_data"
    }
   ],
   "source": [
    "sh.run(['git','commit',f\"-am '{message}'\"])\n",
    "sh.run(['git', 'push'])\n",
    "                   \n",
    "run_id = sh.run([\"gh\",\"run\",\"list\",\"--repo\",f\"{repo}\",\"--jq\", \"'.[0].databaseId'\",\"--json\",\"databaseId\"], stdout=sh.PIPE).stdout\n",
    "\n",
    "sh.run(['gh','run','view',f'{run_id}', f'{log}', '--repo, f'{repo}'])\n",
    "\n",
    "sh.run(['gh', 'repo', f'set-default {local_repo}'])"
   ]
  },
  {
   "cell_type": "code",
   "execution_count": null,
   "id": "334fc470",
   "metadata": {},
   "outputs": [],
   "source": []
  },
  {
   "cell_type": "code",
   "execution_count": null,
   "id": "257667ee",
   "metadata": {},
   "outputs": [],
   "source": []
  }
 ],
 "metadata": {
  "kernelspec": {
   "display_name": "Python 3 (ipykernel)",
   "language": "python",
   "name": "python3"
  },
  "language_info": {
   "codemirror_mode": {
    "name": "ipython",
    "version": 3
   },
   "file_extension": ".py",
   "mimetype": "text/x-python",
   "name": "python",
   "nbconvert_exporter": "python",
   "pygments_lexer": "ipython3",
   "version": "3.10.9"
  }
 },
 "nbformat": 4,
 "nbformat_minor": 5
}
