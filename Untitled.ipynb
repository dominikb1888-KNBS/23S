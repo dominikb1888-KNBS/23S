{
 "cells": [
  {
   "cell_type": "code",
   "execution_count": 18,
   "id": "4a2720d7",
   "metadata": {},
   "outputs": [],
   "source": [
    "#!/usr/bin/python3\n",
    "import subprocess as sh\n",
    "\n",
    "\n",
    "folder = \"KNBS\"\n",
    "branch = \"23S\"\n",
    "message = \"test commit\"\n",
    "web_repo = f\"dominikb1888-{folder}/{branch}\"\n",
    "local_repo = f\"dominikb1888/{folder}\"\n",
    "log=''\n",
    "#log = '--log-failed'"
   ]
  },
  {
   "cell_type": "code",
   "execution_count": 33,
   "id": "edcc2e82",
   "metadata": {},
   "outputs": [
    {
     "name": "stdout",
     "output_type": "stream",
     "text": [
      "On branch 23S\n",
      "Your branch is up to date with 'origin/23S'.\n",
      "\n",
      "nothing to commit, working tree clean\n"
     ]
    },
    {
     "name": "stderr",
     "output_type": "stream",
     "text": [
      "Everything up-to-date\n",
      "Everything up-to-date\n",
      "unexpected token \"'\"\n",
      "accepts at most 1 arg(s), received 2\n"
     ]
    },
    {
     "data": {
      "text/html": [
       "<pre style=\"white-space:pre;overflow-x:auto;line-height:normal;font-family:Menlo,'DejaVu Sans Mono',consolas,'Courier New',monospace\"><span style=\"color: #008000; text-decoration-color: #008000\">b''</span>\n",
       "</pre>\n"
      ],
      "text/plain": [
       "\u001b[32mb''\u001b[0m\n"
      ]
     },
     "metadata": {},
     "output_type": "display_data"
    }
   ],
   "source": [
    "sh.run(['git','commit',f\"-am '{message}'\"])\n",
    "sh.run(['git', 'push'])\n",
    "sh.run(['git', 'push', 'web'])\n",
    "                   \n",
    "run_id = sh.run([\"gh\",\"run\",\"list\",\"--repo\",f\"{repo}\",\"--jq\", \"'.[0].databaseId'\",\"--json\",\"databaseId\"], stdout=sh.PIPE).stdout\n",
    "\n",
    "sh.run(['gh','run','view',f'{run_id}', f'{log}', '--repo', f'{repo}'],stdout=sh.PIPE).stdout\n"
   ]
  },
  {
   "cell_type": "code",
   "execution_count": null,
   "id": "7f0bffb2",
   "metadata": {},
   "outputs": [],
   "source": []
  },
  {
   "cell_type": "code",
   "execution_count": null,
   "id": "a98390f1",
   "metadata": {},
   "outputs": [],
   "source": []
  }
 ],
 "metadata": {
  "kernelspec": {
   "display_name": "Python 3 (ipykernel)",
   "language": "python",
   "name": "python3"
  },
  "language_info": {
   "codemirror_mode": {
    "name": "ipython",
    "version": 3
   },
   "file_extension": ".py",
   "mimetype": "text/x-python",
   "name": "python",
   "nbconvert_exporter": "python",
   "pygments_lexer": "ipython3",
   "version": "3.10.9"
  }
 },
 "nbformat": 4,
 "nbformat_minor": 5
}
