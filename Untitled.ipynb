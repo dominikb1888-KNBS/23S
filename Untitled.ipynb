{
 "cells": [
  {
   "cell_type": "code",
   "execution_count": 7,
   "id": "977a567a",
   "metadata": {},
   "outputs": [],
   "source": [
    "#!/usr/bin/python3\n",
    "import subprocess as sh\n",
    "\n",
    "\n",
    "folder = \"KNBS\"\n",
    "branch = \"23S\"\n",
    "message = \"test commit\"\n",
    "repo = f\"dominikb1888-{folder}/{branch}\"\n",
    "log=''\n",
    "#log = '--log-failed'"
   ]
  },
  {
   "cell_type": "code",
   "execution_count": 12,
   "id": "eee0a3ec",
   "metadata": {},
   "outputs": [
    {
     "name": "stdout",
     "output_type": "stream",
     "text": [
      "On branch 23S\n",
      "Your branch is up to date with 'origin/23S'.\n",
      "\n",
      "nothing to commit, working tree clean\n"
     ]
    },
    {
     "name": "stderr",
     "output_type": "stream",
     "text": [
      "Everything up-to-date\n",
      "unknown flag: --repo dominikb1888-KNBS/23S\n",
      "\n",
      "Usage:  gh pr create [flags]\n",
      "\n",
      "Flags:\n",
      "  -a, --assignee login       Assign people by their login. Use \"@me\" to self-assign.\n",
      "  -B, --base branch          The branch into which you want your code merged\n",
      "  -b, --body string          Body for the pull request\n",
      "  -F, --body-file file       Read body text from file (use \"-\" to read from standard input)\n",
      "  -d, --draft                Mark pull request as a draft\n",
      "  -f, --fill                 Do not prompt for title/body and just use commit info\n",
      "  -H, --head branch          The branch that contains commits for your pull request (default: current branch)\n",
      "  -l, --label name           Add labels by name\n",
      "  -m, --milestone name       Add the pull request to a milestone by name\n",
      "      --no-maintainer-edit   Disable maintainer's ability to modify pull request\n",
      "  -p, --project name         Add the pull request to projects by name\n",
      "      --recover string       Recover input from a failed run of create\n",
      "  -r, --reviewer handle      Request reviews from people or teams by their handle\n",
      "  -t, --title string         Title for the pull request\n",
      "  -w, --web                  Open the web browser to create a pull request\n",
      "  \n"
     ]
    },
    {
     "data": {
      "text/html": [
       "<pre style=\"white-space:pre;overflow-x:auto;line-height:normal;font-family:Menlo,'DejaVu Sans Mono',consolas,'Courier New',monospace\"><span style=\"color: #800000; text-decoration-color: #800000\">╭─────────────────────────────── </span><span style=\"color: #800000; text-decoration-color: #800000; font-weight: bold\">Traceback </span><span style=\"color: #bf7f7f; text-decoration-color: #bf7f7f; font-weight: bold\">(most recent call last)</span><span style=\"color: #800000; text-decoration-color: #800000\"> ────────────────────────────────╮</span>\n",
       "<span style=\"color: #800000; text-decoration-color: #800000\">│</span> <span style=\"color: #bfbf7f; text-decoration-color: #bfbf7f\">/var/folders/7y/km239y1n2w718p09d_ljlxhm0000gn/T/ipykernel_73846/</span><span style=\"color: #808000; text-decoration-color: #808000; font-weight: bold\">2397887213.py</span>:<span style=\"color: #0000ff; text-decoration-color: #0000ff\">6</span> in <span style=\"color: #00ff00; text-decoration-color: #00ff00\">&lt;cell line: </span> <span style=\"color: #800000; text-decoration-color: #800000\">│</span>\n",
       "<span style=\"color: #800000; text-decoration-color: #800000\">│</span> <span style=\"color: #00ff00; text-decoration-color: #00ff00\">6&gt;</span>                                                                                               <span style=\"color: #800000; text-decoration-color: #800000\">│</span>\n",
       "<span style=\"color: #800000; text-decoration-color: #800000\">│</span>                                                                                                  <span style=\"color: #800000; text-decoration-color: #800000\">│</span>\n",
       "<span style=\"color: #800000; text-decoration-color: #800000\">│</span> <span style=\"color: #800000; text-decoration-color: #800000; font-style: italic\">[Errno 2] No such file or directory: </span>                                                            <span style=\"color: #800000; text-decoration-color: #800000\">│</span>\n",
       "<span style=\"color: #800000; text-decoration-color: #800000\">│</span> <span style=\"color: #800000; text-decoration-color: #800000; font-style: italic\">'/var/folders/7y/km239y1n2w718p09d_ljlxhm0000gn/T/ipykernel_73846/2397887213.py'</span>                 <span style=\"color: #800000; text-decoration-color: #800000\">│</span>\n",
       "<span style=\"color: #800000; text-decoration-color: #800000\">╰──────────────────────────────────────────────────────────────────────────────────────────────────╯</span>\n",
       "<span style=\"color: #ff0000; text-decoration-color: #ff0000; font-weight: bold\">NameError: </span>name <span style=\"color: #008000; text-decoration-color: #008000\">'subprocess'</span> is not defined\n",
       "</pre>\n"
      ],
      "text/plain": [
       "\u001b[31m╭─\u001b[0m\u001b[31m──────────────────────────────\u001b[0m\u001b[31m \u001b[0m\u001b[1;31mTraceback \u001b[0m\u001b[1;2;31m(most recent call last)\u001b[0m\u001b[31m \u001b[0m\u001b[31m───────────────────────────────\u001b[0m\u001b[31m─╮\u001b[0m\n",
       "\u001b[31m│\u001b[0m \u001b[2;33m/var/folders/7y/km239y1n2w718p09d_ljlxhm0000gn/T/ipykernel_73846/\u001b[0m\u001b[1;33m2397887213.py\u001b[0m:\u001b[94m6\u001b[0m in \u001b[92m<cell line: \u001b[0m \u001b[31m│\u001b[0m\n",
       "\u001b[31m│\u001b[0m \u001b[92m6>\u001b[0m                                                                                               \u001b[31m│\u001b[0m\n",
       "\u001b[31m│\u001b[0m                                                                                                  \u001b[31m│\u001b[0m\n",
       "\u001b[31m│\u001b[0m \u001b[3;31m[Errno 2] No such file or directory: \u001b[0m                                                            \u001b[31m│\u001b[0m\n",
       "\u001b[31m│\u001b[0m \u001b[3;31m'/var/folders/7y/km239y1n2w718p09d_ljlxhm0000gn/T/ipykernel_73846/2397887213.py'\u001b[0m                 \u001b[31m│\u001b[0m\n",
       "\u001b[31m╰──────────────────────────────────────────────────────────────────────────────────────────────────╯\u001b[0m\n",
       "\u001b[1;91mNameError: \u001b[0mname \u001b[32m'subprocess'\u001b[0m is not defined\n"
      ]
     },
     "metadata": {},
     "output_type": "display_data"
    }
   ],
   "source": [
    "sh.run(['git','commit',f\"-am '{message}'\"])\n",
    "sh.run(['git', 'push'])\n",
    "\n",
    "sh.run(['gh', 'pr', 'create',f'--repo {repo}',f\"--title '{message}'\", \"--bod ''\"])\n",
    "       \n",
    "pr_number = sh.run(['gh','pr', 'list',f'--repo {repo}', '--json number', \"--jq '.[0].number'\"], stdout=subprocess.PIPE).stdout\n",
    "\n",
    "sh.run(['gh','pr', f'merge {pr_number}', f'--repo {repo}', '-m'])\n",
    "                   \n",
    "run_id = sh.run([\"gh\",\"run\",\"list\", f\"--repo {repo}\", \"--jq '.[0].databaseId'\",\"--json databaseId\"], stdout=subprocess.PIPE).stdout\n",
    "\n",
    "sh.run(['gh','run',f'view {run_id}',f'{log}', f'--repo {repo}'])"
   ]
  },
  {
   "cell_type": "code",
   "execution_count": null,
   "id": "f3c42c35",
   "metadata": {},
   "outputs": [],
   "source": []
  },
  {
   "cell_type": "code",
   "execution_count": null,
   "id": "54cf90e6",
   "metadata": {},
   "outputs": [],
   "source": []
  }
 ],
 "metadata": {
  "kernelspec": {
   "display_name": "Python 3 (ipykernel)",
   "language": "python",
   "name": "python3"
  },
  "language_info": {
   "codemirror_mode": {
    "name": "ipython",
    "version": 3
   },
   "file_extension": ".py",
   "mimetype": "text/x-python",
   "name": "python",
   "nbconvert_exporter": "python",
   "pygments_lexer": "ipython3",
   "version": "3.10.9"
  }
 },
 "nbformat": 4,
 "nbformat_minor": 5
}
