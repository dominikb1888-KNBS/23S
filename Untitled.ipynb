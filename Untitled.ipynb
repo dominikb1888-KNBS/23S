{
 "cells": [
  {
   "cell_type": "code",
   "execution_count": 18,
   "id": "957b487a",
   "metadata": {},
   "outputs": [],
   "source": [
    "#!/usr/bin/python3\n",
    "import subprocess as sh\n",
    "\n",
    "\n",
    "folder = \"KNBS\"\n",
    "branch = \"23S\"\n",
    "message = \"test commit\"\n",
    "web_repo = f\"dominikb1888-{folder}/{branch}\"\n",
    "local_repo = f\"dominikb1888/{folder}\"\n",
    "log=''\n",
    "#log = '--log-failed'"
   ]
  },
  {
   "cell_type": "code",
   "execution_count": 45,
   "id": "74889451",
   "metadata": {},
   "outputs": [
    {
     "name": "stdout",
     "output_type": "stream",
     "text": [
      "On branch 23S\n",
      "Your branch is up to date with 'origin/23S'.\n",
      "\n",
      "nothing to commit, working tree clean\n"
     ]
    },
    {
     "name": "stderr",
     "output_type": "stream",
     "text": [
      "Everything up-to-date\n",
      "Everything up-to-date\n"
     ]
    },
    {
     "name": "stdout",
     "output_type": "stream",
     "text": [
      "CompletedProcess(args=['gh', 'run', \"--jq '.[0].databaseId'\", '--json databaseId'], returncode=1, stdout=b'', stderr=b\"unknown flag: --jq '.[0].databaseId'\\n\\nUsage:  gh run <command> [flags]\\n\\nAvailable commands:\\n  cancel\\n  download\\n  list\\n  rerun\\n  view\\n  watch\\n\\n\")\n"
     ]
    },
    {
     "name": "stderr",
     "output_type": "stream",
     "text": [
      "failed to get run: HTTP 404: Not Found (https://api.github.com/repos/dominikb1888-KNBS/23S/actions/runs/CompletedProcess%28args=%5B%27gh%27,%20%27run%27,%20%22--jq%20%27.%5B0%5D.databaseId%27%22,%20%27--json%20databaseId%27%5D,%20returncode=1,%20stdout=b%27%27,%20stderr=b%22unknown%20flag:%20--jq%20%27.%5B0%5D.databaseId%27%5Cn%5CnUsage:%20%20gh%20run%20%3Ccommand%3E%20%5Bflags%5D%5Cn%5CnAvailable%20commands:%5Cn%20%20cancel%5Cn%20%20download%5Cn%20%20list%5Cn%20%20rerun%5Cn%20%20view%5Cn%20%20watch%5Cn%5Cn%22%29?exclude_pull_requests=true)\n"
     ]
    },
    {
     "data": {
      "text/html": [
       "<pre style=\"white-space:pre;overflow-x:auto;line-height:normal;font-family:Menlo,'DejaVu Sans Mono',consolas,'Courier New',monospace\"><span style=\"color: #008000; text-decoration-color: #008000\">b''</span>\n",
       "</pre>\n"
      ],
      "text/plain": [
       "\u001b[32mb''\u001b[0m\n"
      ]
     },
     "metadata": {},
     "output_type": "display_data"
    }
   ],
   "source": [
    "sh.run(['git','commit',f\"-am '{message}'\"])\n",
    "sh.run(['git', 'push'])\n",
    "sh.run(['git', 'push', 'web'])\n",
    "                   \n",
    "run_id = sh.run([\"gh\",\"run\",\"--jq '.[0].databaseId'\",\"--json databaseId\"], capture_output=True)\n",
    "print(run_id)\n",
    "sh.run(['gh','run','watch',f'{run_id}', f'{log}', '--repo', f'{repo}'],stdout=sh.PIPE).stdout\n"
   ]
  },
  {
   "cell_type": "code",
   "execution_count": null,
   "id": "c51d83db",
   "metadata": {},
   "outputs": [],
   "source": []
  },
  {
   "cell_type": "code",
   "execution_count": null,
   "id": "75a7fcd8",
   "metadata": {},
   "outputs": [],
   "source": []
  }
 ],
 "metadata": {
  "kernelspec": {
   "display_name": "Python 3 (ipykernel)",
   "language": "python",
   "name": "python3"
  },
  "language_info": {
   "codemirror_mode": {
    "name": "ipython",
    "version": 3
   },
   "file_extension": ".py",
   "mimetype": "text/x-python",
   "name": "python",
   "nbconvert_exporter": "python",
   "pygments_lexer": "ipython3",
   "version": "3.10.9"
  }
 },
 "nbformat": 4,
 "nbformat_minor": 5
}
