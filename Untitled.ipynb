{
 "cells": [
  {
   "cell_type": "code",
   "execution_count": 7,
   "id": "43a77e5c",
   "metadata": {},
   "outputs": [],
   "source": [
    "#!/usr/bin/python3\n",
    "import subprocess as sh\n",
    "\n",
    "\n",
    "folder = \"KNBS\"\n",
    "branch = \"23S\"\n",
    "message = \"test commit\"\n",
    "web-repo = f\"dominikb1888-{folder}/{branch}\"\n",
    "local-repo = f\"dominikb1888/{folder}\"\n",
    "log=''\n",
    "#log = '--log-failed'"
   ]
  },
  {
   "cell_type": "code",
   "execution_count": 13,
   "id": "59db00bf",
   "metadata": {},
   "outputs": [
    {
     "name": "stdout",
     "output_type": "stream",
     "text": [
      "[23S 911210b]  'test commit'\n",
      " 1 file changed, 64 insertions(+), 83 deletions(-)\n"
     ]
    },
    {
     "name": "stderr",
     "output_type": "stream",
     "text": [
      "To https://github.com/dominikb1888/KNBS\n",
      "   1955bc6..911210b  23S -> 23S\n",
      "unknown flag: --repo dominikb1888-KNBS/23S\n",
      "\n",
      "Usage:  gh pr <command> [flags]\n",
      "\n",
      "Available commands:\n",
      "  checkout\n",
      "  checks\n",
      "  close\n",
      "  comment\n",
      "  create\n",
      "  diff\n",
      "  edit\n",
      "  list\n",
      "  lock\n",
      "  merge\n",
      "  ready\n",
      "  reopen\n",
      "  review\n",
      "  status\n",
      "  unlock\n",
      "  view\n",
      "\n"
     ]
    },
    {
     "data": {
      "text/html": [
       "<pre style=\"white-space:pre;overflow-x:auto;line-height:normal;font-family:Menlo,'DejaVu Sans Mono',consolas,'Courier New',monospace\"><span style=\"color: #800000; text-decoration-color: #800000\">╭─────────────────────────────── </span><span style=\"color: #800000; text-decoration-color: #800000; font-weight: bold\">Traceback </span><span style=\"color: #bf7f7f; text-decoration-color: #bf7f7f; font-weight: bold\">(most recent call last)</span><span style=\"color: #800000; text-decoration-color: #800000\"> ────────────────────────────────╮</span>\n",
       "<span style=\"color: #800000; text-decoration-color: #800000\">│</span> <span style=\"color: #bfbf7f; text-decoration-color: #bfbf7f\">/var/folders/7y/km239y1n2w718p09d_ljlxhm0000gn/T/ipykernel_73846/</span><span style=\"color: #808000; text-decoration-color: #808000; font-weight: bold\">3748144012.py</span>:<span style=\"color: #0000ff; text-decoration-color: #0000ff\">6</span> in <span style=\"color: #00ff00; text-decoration-color: #00ff00\">&lt;cell line: </span> <span style=\"color: #800000; text-decoration-color: #800000\">│</span>\n",
       "<span style=\"color: #800000; text-decoration-color: #800000\">│</span> <span style=\"color: #00ff00; text-decoration-color: #00ff00\">6&gt;</span>                                                                                               <span style=\"color: #800000; text-decoration-color: #800000\">│</span>\n",
       "<span style=\"color: #800000; text-decoration-color: #800000\">│</span>                                                                                                  <span style=\"color: #800000; text-decoration-color: #800000\">│</span>\n",
       "<span style=\"color: #800000; text-decoration-color: #800000\">│</span> <span style=\"color: #800000; text-decoration-color: #800000; font-style: italic\">[Errno 2] No such file or directory: </span>                                                            <span style=\"color: #800000; text-decoration-color: #800000\">│</span>\n",
       "<span style=\"color: #800000; text-decoration-color: #800000\">│</span> <span style=\"color: #800000; text-decoration-color: #800000; font-style: italic\">'/var/folders/7y/km239y1n2w718p09d_ljlxhm0000gn/T/ipykernel_73846/3748144012.py'</span>                 <span style=\"color: #800000; text-decoration-color: #800000\">│</span>\n",
       "<span style=\"color: #800000; text-decoration-color: #800000\">╰──────────────────────────────────────────────────────────────────────────────────────────────────╯</span>\n",
       "<span style=\"color: #ff0000; text-decoration-color: #ff0000; font-weight: bold\">NameError: </span>name <span style=\"color: #008000; text-decoration-color: #008000\">'subprocess'</span> is not defined\n",
       "</pre>\n"
      ],
      "text/plain": [
       "\u001b[31m╭─\u001b[0m\u001b[31m──────────────────────────────\u001b[0m\u001b[31m \u001b[0m\u001b[1;31mTraceback \u001b[0m\u001b[1;2;31m(most recent call last)\u001b[0m\u001b[31m \u001b[0m\u001b[31m───────────────────────────────\u001b[0m\u001b[31m─╮\u001b[0m\n",
       "\u001b[31m│\u001b[0m \u001b[2;33m/var/folders/7y/km239y1n2w718p09d_ljlxhm0000gn/T/ipykernel_73846/\u001b[0m\u001b[1;33m3748144012.py\u001b[0m:\u001b[94m6\u001b[0m in \u001b[92m<cell line: \u001b[0m \u001b[31m│\u001b[0m\n",
       "\u001b[31m│\u001b[0m \u001b[92m6>\u001b[0m                                                                                               \u001b[31m│\u001b[0m\n",
       "\u001b[31m│\u001b[0m                                                                                                  \u001b[31m│\u001b[0m\n",
       "\u001b[31m│\u001b[0m \u001b[3;31m[Errno 2] No such file or directory: \u001b[0m                                                            \u001b[31m│\u001b[0m\n",
       "\u001b[31m│\u001b[0m \u001b[3;31m'/var/folders/7y/km239y1n2w718p09d_ljlxhm0000gn/T/ipykernel_73846/3748144012.py'\u001b[0m                 \u001b[31m│\u001b[0m\n",
       "\u001b[31m╰──────────────────────────────────────────────────────────────────────────────────────────────────╯\u001b[0m\n",
       "\u001b[1;91mNameError: \u001b[0mname \u001b[32m'subprocess'\u001b[0m is not defined\n"
      ]
     },
     "metadata": {},
     "output_type": "display_data"
    }
   ],
   "source": [
    "sh.run(['git','commit',f\"-am '{message}'\"])\n",
    "sh.run(['git', 'push'])\n",
    "\n",
    "sh.run(['gh', 'repo', f'set-default {web-repo}'])\n",
    "\n",
    "sh.run(['gh', 'pr', 'create' f\"--title '{message}'\", \"--body ''\"])\n",
    "       \n",
    "pr_number = sh.run(['gh','pr', 'list', '--json number', \"--jq '.[0].number'\"], stdout=subprocess.PIPE).stdout\n",
    "\n",
    "sh.run(['gh','pr', f'merge {pr_number}', '-m'])\n",
    "                   \n",
    "run_id = sh.run([\"gh\",\"run\",\"list\", \"--jq '.[0].databaseId'\",\"--json databaseId\"], stdout=subprocess.PIPE).stdout\n",
    "\n",
    "sh.run(['gh','run',f'view {run_id}',f'{log}', f'--repo {repo}'])\n",
    "\n",
    "sh.run(['gh', 'repo', f'set-default {web-repo}'])"
   ]
  },
  {
   "cell_type": "code",
   "execution_count": null,
   "id": "42313176",
   "metadata": {},
   "outputs": [],
   "source": []
  },
  {
   "cell_type": "code",
   "execution_count": null,
   "id": "b5f79566",
   "metadata": {},
   "outputs": [],
   "source": []
  }
 ],
 "metadata": {
  "kernelspec": {
   "display_name": "Python 3 (ipykernel)",
   "language": "python",
   "name": "python3"
  },
  "language_info": {
   "codemirror_mode": {
    "name": "ipython",
    "version": 3
   },
   "file_extension": ".py",
   "mimetype": "text/x-python",
   "name": "python",
   "nbconvert_exporter": "python",
   "pygments_lexer": "ipython3",
   "version": "3.10.9"
  }
 },
 "nbformat": 4,
 "nbformat_minor": 5
}
